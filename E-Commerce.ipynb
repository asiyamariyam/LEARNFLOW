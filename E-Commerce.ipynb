{
 "cells": [
  {
   "cell_type": "code",
   "execution_count": 1,
   "id": "0f0eecd2",
   "metadata": {},
   "outputs": [],
   "source": [
    "import numpy as np\n",
    "import pandas as pd\n",
    "import seaborn as sns\n",
    "from matplotlib import pyplot as plt\n",
    "import warnings\n",
    "import os\n",
    "import importlib\n",
    "warnings.filterwarnings('ignore')\n",
    "sns.set_theme(color_codes=True)"
   ]
  },
  {
   "cell_type": "code",
   "execution_count": 2,
   "id": "77181365",
   "metadata": {},
   "outputs": [],
   "source": [
    "df = pd.read_csv(\"ratings_Electronics.csv\", names=['userId', 'productId', 'rating', 'timestamp'])"
   ]
  },
  {
   "cell_type": "code",
   "execution_count": 5,
   "id": "3bc39b30",
   "metadata": {},
   "outputs": [
    {
     "data": {
      "text/plain": [
       "(7824482, 4)"
      ]
     },
     "execution_count": 5,
     "metadata": {},
     "output_type": "execute_result"
    }
   ],
   "source": [
    "df.shape"
   ]
  },
  {
   "cell_type": "code",
   "execution_count": 6,
   "id": "d8d5272e",
   "metadata": {},
   "outputs": [
    {
     "data": {
      "text/plain": [
       "Index(['userId', 'productId', 'rating', 'timestamp'], dtype='object')"
      ]
     },
     "execution_count": 6,
     "metadata": {},
     "output_type": "execute_result"
    }
   ],
   "source": [
    "df.columns"
   ]
  },
  {
   "cell_type": "code",
   "execution_count": 5,
   "id": "b106905e",
   "metadata": {},
   "outputs": [],
   "source": [
    "electronics_data = df.sample(n=1564896, ignore_index=True)"
   ]
  },
  {
   "cell_type": "code",
   "execution_count": 6,
   "id": "4a9472cb",
   "metadata": {},
   "outputs": [],
   "source": [
    "del df "
   ]
  },
  {
   "cell_type": "code",
   "execution_count": 7,
   "id": "7d34496f",
   "metadata": {},
   "outputs": [
    {
     "data": {
      "text/html": [
       "<div>\n",
       "<style scoped>\n",
       "    .dataframe tbody tr th:only-of-type {\n",
       "        vertical-align: middle;\n",
       "    }\n",
       "\n",
       "    .dataframe tbody tr th {\n",
       "        vertical-align: top;\n",
       "    }\n",
       "\n",
       "    .dataframe thead th {\n",
       "        text-align: right;\n",
       "    }\n",
       "</style>\n",
       "<table border=\"1\" class=\"dataframe\">\n",
       "  <thead>\n",
       "    <tr style=\"text-align: right;\">\n",
       "      <th></th>\n",
       "      <th>userId</th>\n",
       "      <th>productId</th>\n",
       "      <th>rating</th>\n",
       "      <th>timestamp</th>\n",
       "    </tr>\n",
       "  </thead>\n",
       "  <tbody>\n",
       "    <tr>\n",
       "      <th>0</th>\n",
       "      <td>A31FK5I79CEPBG</td>\n",
       "      <td>B0038L495U</td>\n",
       "      <td>3.0</td>\n",
       "      <td>1351209600</td>\n",
       "    </tr>\n",
       "    <tr>\n",
       "      <th>1</th>\n",
       "      <td>A13Q539VMRUO0O</td>\n",
       "      <td>B000VDCT3C</td>\n",
       "      <td>5.0</td>\n",
       "      <td>1302739200</td>\n",
       "    </tr>\n",
       "    <tr>\n",
       "      <th>2</th>\n",
       "      <td>A11IO166K1IJ9X</td>\n",
       "      <td>B00004U8P2</td>\n",
       "      <td>5.0</td>\n",
       "      <td>1037491200</td>\n",
       "    </tr>\n",
       "    <tr>\n",
       "      <th>3</th>\n",
       "      <td>A7FN266S3AXR0</td>\n",
       "      <td>B006RLWE00</td>\n",
       "      <td>5.0</td>\n",
       "      <td>1359158400</td>\n",
       "    </tr>\n",
       "    <tr>\n",
       "      <th>4</th>\n",
       "      <td>A2NSMHRO4IU404</td>\n",
       "      <td>B002LITFP0</td>\n",
       "      <td>5.0</td>\n",
       "      <td>1318809600</td>\n",
       "    </tr>\n",
       "  </tbody>\n",
       "</table>\n",
       "</div>"
      ],
      "text/plain": [
       "           userId   productId  rating   timestamp\n",
       "0  A31FK5I79CEPBG  B0038L495U     3.0  1351209600\n",
       "1  A13Q539VMRUO0O  B000VDCT3C     5.0  1302739200\n",
       "2  A11IO166K1IJ9X  B00004U8P2     5.0  1037491200\n",
       "3   A7FN266S3AXR0  B006RLWE00     5.0  1359158400\n",
       "4  A2NSMHRO4IU404  B002LITFP0     5.0  1318809600"
      ]
     },
     "execution_count": 7,
     "metadata": {},
     "output_type": "execute_result"
    }
   ],
   "source": [
    "electronics_data.head()"
   ]
  },
  {
   "cell_type": "code",
   "execution_count": 8,
   "id": "10c94325",
   "metadata": {},
   "outputs": [
    {
     "name": "stdout",
     "output_type": "stream",
     "text": [
      "<class 'pandas.core.frame.DataFrame'>\n",
      "RangeIndex: 1564896 entries, 0 to 1564895\n",
      "Data columns (total 4 columns):\n",
      " #   Column     Non-Null Count    Dtype  \n",
      "---  ------     --------------    -----  \n",
      " 0   userId     1564896 non-null  object \n",
      " 1   productId  1564896 non-null  object \n",
      " 2   rating     1564896 non-null  float64\n",
      " 3   timestamp  1564896 non-null  int64  \n",
      "dtypes: float64(1), int64(1), object(2)\n",
      "memory usage: 47.8+ MB\n"
     ]
    }
   ],
   "source": [
    "electronics_data.info()"
   ]
  },
  {
   "cell_type": "code",
   "execution_count": 9,
   "id": "3c8b0975",
   "metadata": {},
   "outputs": [],
   "source": [
    "electronics_data.drop('timestamp', axis=1, inplace=True)"
   ]
  },
  {
   "cell_type": "code",
   "execution_count": 10,
   "id": "bff732db",
   "metadata": {},
   "outputs": [
    {
     "data": {
      "text/html": [
       "<div>\n",
       "<style scoped>\n",
       "    .dataframe tbody tr th:only-of-type {\n",
       "        vertical-align: middle;\n",
       "    }\n",
       "\n",
       "    .dataframe tbody tr th {\n",
       "        vertical-align: top;\n",
       "    }\n",
       "\n",
       "    .dataframe thead th {\n",
       "        text-align: right;\n",
       "    }\n",
       "</style>\n",
       "<table border=\"1\" class=\"dataframe\">\n",
       "  <thead>\n",
       "    <tr style=\"text-align: right;\">\n",
       "      <th></th>\n",
       "      <th>rating</th>\n",
       "    </tr>\n",
       "  </thead>\n",
       "  <tbody>\n",
       "    <tr>\n",
       "      <th>count</th>\n",
       "      <td>1.564896e+06</td>\n",
       "    </tr>\n",
       "    <tr>\n",
       "      <th>mean</th>\n",
       "      <td>4.013404e+00</td>\n",
       "    </tr>\n",
       "    <tr>\n",
       "      <th>std</th>\n",
       "      <td>1.380717e+00</td>\n",
       "    </tr>\n",
       "    <tr>\n",
       "      <th>min</th>\n",
       "      <td>1.000000e+00</td>\n",
       "    </tr>\n",
       "    <tr>\n",
       "      <th>25%</th>\n",
       "      <td>3.000000e+00</td>\n",
       "    </tr>\n",
       "    <tr>\n",
       "      <th>50%</th>\n",
       "      <td>5.000000e+00</td>\n",
       "    </tr>\n",
       "    <tr>\n",
       "      <th>75%</th>\n",
       "      <td>5.000000e+00</td>\n",
       "    </tr>\n",
       "    <tr>\n",
       "      <th>max</th>\n",
       "      <td>5.000000e+00</td>\n",
       "    </tr>\n",
       "  </tbody>\n",
       "</table>\n",
       "</div>"
      ],
      "text/plain": [
       "             rating\n",
       "count  1.564896e+06\n",
       "mean   4.013404e+00\n",
       "std    1.380717e+00\n",
       "min    1.000000e+00\n",
       "25%    3.000000e+00\n",
       "50%    5.000000e+00\n",
       "75%    5.000000e+00\n",
       "max    5.000000e+00"
      ]
     },
     "execution_count": 10,
     "metadata": {},
     "output_type": "execute_result"
    }
   ],
   "source": [
    "electronics_data.describe()"
   ]
  },
  {
   "cell_type": "code",
   "execution_count": 11,
   "id": "0a4bfe57",
   "metadata": {},
   "outputs": [
    {
     "data": {
      "text/plain": [
       "userId       0\n",
       "productId    0\n",
       "rating       0\n",
       "dtype: int64"
      ]
     },
     "execution_count": 11,
     "metadata": {},
     "output_type": "execute_result"
    }
   ],
   "source": [
    "electronics_data.isnull().sum()"
   ]
  },
  {
   "cell_type": "code",
   "execution_count": 12,
   "id": "f47ce4ae",
   "metadata": {},
   "outputs": [
    {
     "data": {
      "text/plain": [
       "0"
      ]
     },
     "execution_count": 12,
     "metadata": {},
     "output_type": "execute_result"
    }
   ],
   "source": [
    "electronics_data[electronics_data.duplicated()].shape[0]"
   ]
  },
  {
   "cell_type": "code",
   "execution_count": 13,
   "id": "c7e67e9d",
   "metadata": {},
   "outputs": [
    {
     "data": {
      "text/html": [
       "<div>\n",
       "<style scoped>\n",
       "    .dataframe tbody tr th:only-of-type {\n",
       "        vertical-align: middle;\n",
       "    }\n",
       "\n",
       "    .dataframe tbody tr th {\n",
       "        vertical-align: top;\n",
       "    }\n",
       "\n",
       "    .dataframe thead th {\n",
       "        text-align: right;\n",
       "    }\n",
       "</style>\n",
       "<table border=\"1\" class=\"dataframe\">\n",
       "  <thead>\n",
       "    <tr style=\"text-align: right;\">\n",
       "      <th></th>\n",
       "      <th>userId</th>\n",
       "      <th>productId</th>\n",
       "      <th>rating</th>\n",
       "    </tr>\n",
       "  </thead>\n",
       "  <tbody>\n",
       "    <tr>\n",
       "      <th>0</th>\n",
       "      <td>A31FK5I79CEPBG</td>\n",
       "      <td>B0038L495U</td>\n",
       "      <td>3.0</td>\n",
       "    </tr>\n",
       "    <tr>\n",
       "      <th>1</th>\n",
       "      <td>A13Q539VMRUO0O</td>\n",
       "      <td>B000VDCT3C</td>\n",
       "      <td>5.0</td>\n",
       "    </tr>\n",
       "    <tr>\n",
       "      <th>2</th>\n",
       "      <td>A11IO166K1IJ9X</td>\n",
       "      <td>B00004U8P2</td>\n",
       "      <td>5.0</td>\n",
       "    </tr>\n",
       "    <tr>\n",
       "      <th>3</th>\n",
       "      <td>A7FN266S3AXR0</td>\n",
       "      <td>B006RLWE00</td>\n",
       "      <td>5.0</td>\n",
       "    </tr>\n",
       "    <tr>\n",
       "      <th>4</th>\n",
       "      <td>A2NSMHRO4IU404</td>\n",
       "      <td>B002LITFP0</td>\n",
       "      <td>5.0</td>\n",
       "    </tr>\n",
       "  </tbody>\n",
       "</table>\n",
       "</div>"
      ],
      "text/plain": [
       "           userId   productId  rating\n",
       "0  A31FK5I79CEPBG  B0038L495U     3.0\n",
       "1  A13Q539VMRUO0O  B000VDCT3C     5.0\n",
       "2  A11IO166K1IJ9X  B00004U8P2     5.0\n",
       "3   A7FN266S3AXR0  B006RLWE00     5.0\n",
       "4  A2NSMHRO4IU404  B002LITFP0     5.0"
      ]
     },
     "execution_count": 13,
     "metadata": {},
     "output_type": "execute_result"
    }
   ],
   "source": [
    "electronics_data.head()"
   ]
  },
  {
   "cell_type": "code",
   "execution_count": 14,
   "id": "41a5d9c5",
   "metadata": {},
   "outputs": [
    {
     "data": {
      "image/png": "[encoded data removed]",
      "text/plain": [
       "<Figure size 800x400 with 1 Axes>"
      ]
     },
     "metadata": {},
     "output_type": "display_data"
    }
   ],
   "source": [
    "plt.figure(figsize=(8,4))\n",
    "sns.countplot(x='rating', data=electronics_data)\n",
    "plt.title('Rating Distribution')\n",
    "plt.xlabel('Rating')\n",
    "plt.ylabel('Count')\n",
    "plt.grid()\n",
    "plt.show()"
   ]
  },
  {
   "cell_type": "code",
   "execution_count": 15,
   "id": "4628d0aa",
   "metadata": {},
   "outputs": [
    {
     "name": "stdout",
     "output_type": "stream",
     "text": [
      "Total rating: 1564896\n",
      "Total uniue users: 1224983\n",
      "Total unique products: 238007\n"
     ]
    }
   ],
   "source": [
    "print('Total rating:', electronics_data.shape[0])\n",
    "print('Total uniue users:', electronics_data['userId'].unique().shape[0])\n",
    "print('Total unique products:', electronics_data['productId'].unique().shape[0])"
   ]
  },
  {
   "cell_type": "code",
   "execution_count": 16,
   "id": "d3766641",
   "metadata": {},
   "outputs": [
    {
     "data": {
      "text/plain": [
       "userId\n",
       "ADLVFFE4VBT8      109\n",
       "A5JLAU2ARJ0BO     108\n",
       "A3OXHLG6DIBRW8    106\n",
       "A680RUE1FDO8B      90\n",
       "A6FIAB28IS79       88\n",
       "Name: rating, dtype: int64"
      ]
     },
     "execution_count": 16,
     "metadata": {},
     "output_type": "execute_result"
    }
   ],
   "source": [
    "no_of_rated_products_per_user = electronics_data.groupby(by='userId')['rating'].count().sort_values(ascending=False)\n",
    "no_of_rated_products_per_user.head()"
   ]
  },
  {
   "cell_type": "code",
   "execution_count": 17,
   "id": "db3fc917",
   "metadata": {},
   "outputs": [
    {
     "name": "stdout",
     "output_type": "stream",
     "text": [
      "No of rated product more than 50 per user: 27\n"
     ]
    }
   ],
   "source": [
    "print('No of rated product more than 50 per user: {}'.format(sum(no_of_rated_products_per_user >= 50)))\n"
   ]
  },
  {
   "cell_type": "code",
   "execution_count": 18,
   "id": "19916746",
   "metadata": {},
   "outputs": [],
   "source": [
    "data = electronics_data.groupby('productId').filter(lambda x:x['rating'].count()>=50)\n"
   ]
  },
  {
   "cell_type": "code",
   "execution_count": 19,
   "id": "a18c1954",
   "metadata": {},
   "outputs": [
    {
     "data": {
      "text/html": [
       "<div>\n",
       "<style scoped>\n",
       "    .dataframe tbody tr th:only-of-type {\n",
       "        vertical-align: middle;\n",
       "    }\n",
       "\n",
       "    .dataframe tbody tr th {\n",
       "        vertical-align: top;\n",
       "    }\n",
       "\n",
       "    .dataframe thead th {\n",
       "        text-align: right;\n",
       "    }\n",
       "</style>\n",
       "<table border=\"1\" class=\"dataframe\">\n",
       "  <thead>\n",
       "    <tr style=\"text-align: right;\">\n",
       "      <th></th>\n",
       "      <th>userId</th>\n",
       "      <th>productId</th>\n",
       "      <th>rating</th>\n",
       "    </tr>\n",
       "  </thead>\n",
       "  <tbody>\n",
       "    <tr>\n",
       "      <th>0</th>\n",
       "      <td>A31FK5I79CEPBG</td>\n",
       "      <td>B0038L495U</td>\n",
       "      <td>3.0</td>\n",
       "    </tr>\n",
       "    <tr>\n",
       "      <th>1</th>\n",
       "      <td>A13Q539VMRUO0O</td>\n",
       "      <td>B000VDCT3C</td>\n",
       "      <td>5.0</td>\n",
       "    </tr>\n",
       "    <tr>\n",
       "      <th>7</th>\n",
       "      <td>A3UFYYXJP6KSFR</td>\n",
       "      <td>B002IO2UM2</td>\n",
       "      <td>3.0</td>\n",
       "    </tr>\n",
       "    <tr>\n",
       "      <th>8</th>\n",
       "      <td>A3VNOTO0IWDHBY</td>\n",
       "      <td>B004CAJU8W</td>\n",
       "      <td>5.0</td>\n",
       "    </tr>\n",
       "    <tr>\n",
       "      <th>9</th>\n",
       "      <td>A1MKSXIM6UFNVU</td>\n",
       "      <td>B002FFZGCU</td>\n",
       "      <td>5.0</td>\n",
       "    </tr>\n",
       "  </tbody>\n",
       "</table>\n",
       "</div>"
      ],
      "text/plain": [
       "           userId   productId  rating\n",
       "0  A31FK5I79CEPBG  B0038L495U     3.0\n",
       "1  A13Q539VMRUO0O  B000VDCT3C     5.0\n",
       "7  A3UFYYXJP6KSFR  B002IO2UM2     3.0\n",
       "8  A3VNOTO0IWDHBY  B004CAJU8W     5.0\n",
       "9  A1MKSXIM6UFNVU  B002FFZGCU     5.0"
      ]
     },
     "execution_count": 19,
     "metadata": {},
     "output_type": "execute_result"
    }
   ],
   "source": [
    "data.head()"
   ]
  },
  {
   "cell_type": "code",
   "execution_count": 20,
   "id": "d0a1354c",
   "metadata": {},
   "outputs": [],
   "source": [
    "no_of_rating_per_product = data.groupby('productId')['rating'].count().sort_values(ascending=False)"
   ]
  },
  {
   "cell_type": "code",
   "execution_count": 21,
   "id": "43f891ae",
   "metadata": {},
   "outputs": [
    {
     "data": {
      "text/plain": [
       "productId\n",
       "B0074BW614    3623\n",
       "B00DR0PDNE    3202\n",
       "B007WTAJTO    2827\n",
       "B006GWO5WK    2490\n",
       "B0019EHU8G    2457\n",
       "Name: rating, dtype: int64"
      ]
     },
     "execution_count": 21,
     "metadata": {},
     "output_type": "execute_result"
    }
   ],
   "source": [
    "no_of_rating_per_product.head()"
   ]
  },
  {
   "cell_type": "code",
   "execution_count": 22,
   "id": "66208ac3",
   "metadata": {},
   "outputs": [
    {
     "data": {
      "image/png": "[encoded data removed]",
      "text/plain": [
       "<Figure size 640x480 with 1 Axes>"
      ]
     },
     "metadata": {},
     "output_type": "display_data"
    }
   ],
   "source": [
    "no_of_rating_per_product.head(20).plot(kind='bar')\n",
    "plt.xlabel('Product ID')\n",
    "plt.ylabel('Num of rating')\n",
    "plt.title('Top 20 Products')\n",
    "plt.show()"
   ]
  },
  {
   "cell_type": "code",
   "execution_count": 23,
   "id": "48ce3998",
   "metadata": {},
   "outputs": [],
   "source": [
    "mean_rating_product_count = pd.DataFrame(data.groupby('productId')['rating'].mean())"
   ]
  },
  {
   "cell_type": "code",
   "execution_count": 24,
   "id": "a798269f",
   "metadata": {},
   "outputs": [
    {
     "data": {
      "text/html": [
       "<div>\n",
       "<style scoped>\n",
       "    .dataframe tbody tr th:only-of-type {\n",
       "        vertical-align: middle;\n",
       "    }\n",
       "\n",
       "    .dataframe tbody tr th {\n",
       "        vertical-align: top;\n",
       "    }\n",
       "\n",
       "    .dataframe thead th {\n",
       "        text-align: right;\n",
       "    }\n",
       "</style>\n",
       "<table border=\"1\" class=\"dataframe\">\n",
       "  <thead>\n",
       "    <tr style=\"text-align: right;\">\n",
       "      <th></th>\n",
       "      <th>rating</th>\n",
       "    </tr>\n",
       "    <tr>\n",
       "      <th>productId</th>\n",
       "      <th></th>\n",
       "    </tr>\n",
       "  </thead>\n",
       "  <tbody>\n",
       "    <tr>\n",
       "      <th>0972683275</th>\n",
       "      <td>4.317949</td>\n",
       "    </tr>\n",
       "    <tr>\n",
       "      <th>1400501466</th>\n",
       "      <td>3.788462</td>\n",
       "    </tr>\n",
       "    <tr>\n",
       "      <th>1400532655</th>\n",
       "      <td>3.666667</td>\n",
       "    </tr>\n",
       "    <tr>\n",
       "      <th>140053271X</th>\n",
       "      <td>3.949495</td>\n",
       "    </tr>\n",
       "    <tr>\n",
       "      <th>B00000J1V5</th>\n",
       "      <td>4.440000</td>\n",
       "    </tr>\n",
       "  </tbody>\n",
       "</table>\n",
       "</div>"
      ],
      "text/plain": [
       "              rating\n",
       "productId           \n",
       "0972683275  4.317949\n",
       "1400501466  3.788462\n",
       "1400532655  3.666667\n",
       "140053271X  3.949495\n",
       "B00000J1V5  4.440000"
      ]
     },
     "execution_count": 24,
     "metadata": {},
     "output_type": "execute_result"
    }
   ],
   "source": [
    "mean_rating_product_count.head()"
   ]
  },
  {
   "cell_type": "code",
   "execution_count": 25,
   "id": "97987634",
   "metadata": {},
   "outputs": [
    {
     "data": {
      "image/png": "[encoded data removed]",
      "text/plain": [
       "<Figure size 640x480 with 1 Axes>"
      ]
     },
     "metadata": {},
     "output_type": "display_data"
    }
   ],
   "source": [
    "plt.hist(mean_rating_product_count['rating'], bins=100)\n",
    "plt.title('Mean Rating Distribution')\n",
    "plt.show()"
   ]
  },
  {
   "cell_type": "code",
   "execution_count": 26,
   "id": "a876a8ef",
   "metadata": {},
   "outputs": [
    {
     "data": {
      "text/plain": [
       "-0.907869502150127"
      ]
     },
     "execution_count": 26,
     "metadata": {},
     "output_type": "execute_result"
    }
   ],
   "source": [
    "mean_rating_product_count['rating'].skew()"
   ]
  },
  {
   "cell_type": "code",
   "execution_count": 27,
   "id": "d2281b2a",
   "metadata": {},
   "outputs": [],
   "source": [
    "mean_rating_product_count['rating_counts'] = pd.DataFrame(data.groupby('productId')['rating'].count())"
   ]
  },
  {
   "cell_type": "code",
   "execution_count": 28,
   "id": "f5d08906",
   "metadata": {},
   "outputs": [
    {
     "data": {
      "text/html": [
       "<div>\n",
       "<style scoped>\n",
       "    .dataframe tbody tr th:only-of-type {\n",
       "        vertical-align: middle;\n",
       "    }\n",
       "\n",
       "    .dataframe tbody tr th {\n",
       "        vertical-align: top;\n",
       "    }\n",
       "\n",
       "    .dataframe thead th {\n",
       "        text-align: right;\n",
       "    }\n",
       "</style>\n",
       "<table border=\"1\" class=\"dataframe\">\n",
       "  <thead>\n",
       "    <tr style=\"text-align: right;\">\n",
       "      <th></th>\n",
       "      <th>rating</th>\n",
       "      <th>rating_counts</th>\n",
       "    </tr>\n",
       "    <tr>\n",
       "      <th>productId</th>\n",
       "      <th></th>\n",
       "      <th></th>\n",
       "    </tr>\n",
       "  </thead>\n",
       "  <tbody>\n",
       "    <tr>\n",
       "      <th>0972683275</th>\n",
       "      <td>4.317949</td>\n",
       "      <td>195</td>\n",
       "    </tr>\n",
       "    <tr>\n",
       "      <th>1400501466</th>\n",
       "      <td>3.788462</td>\n",
       "      <td>52</td>\n",
       "    </tr>\n",
       "    <tr>\n",
       "      <th>1400532655</th>\n",
       "      <td>3.666667</td>\n",
       "      <td>99</td>\n",
       "    </tr>\n",
       "    <tr>\n",
       "      <th>140053271X</th>\n",
       "      <td>3.949495</td>\n",
       "      <td>99</td>\n",
       "    </tr>\n",
       "    <tr>\n",
       "      <th>B00000J1V5</th>\n",
       "      <td>4.440000</td>\n",
       "      <td>75</td>\n",
       "    </tr>\n",
       "  </tbody>\n",
       "</table>\n",
       "</div>"
      ],
      "text/plain": [
       "              rating  rating_counts\n",
       "productId                          \n",
       "0972683275  4.317949            195\n",
       "1400501466  3.788462             52\n",
       "1400532655  3.666667             99\n",
       "140053271X  3.949495             99\n",
       "B00000J1V5  4.440000             75"
      ]
     },
     "execution_count": 28,
     "metadata": {},
     "output_type": "execute_result"
    }
   ],
   "source": [
    "mean_rating_product_count.head()"
   ]
  },
  {
   "cell_type": "code",
   "execution_count": 29,
   "id": "ef186bad",
   "metadata": {},
   "outputs": [
    {
     "data": {
      "text/html": [
       "<div>\n",
       "<style scoped>\n",
       "    .dataframe tbody tr th:only-of-type {\n",
       "        vertical-align: middle;\n",
       "    }\n",
       "\n",
       "    .dataframe tbody tr th {\n",
       "        vertical-align: top;\n",
       "    }\n",
       "\n",
       "    .dataframe thead th {\n",
       "        text-align: right;\n",
       "    }\n",
       "</style>\n",
       "<table border=\"1\" class=\"dataframe\">\n",
       "  <thead>\n",
       "    <tr style=\"text-align: right;\">\n",
       "      <th></th>\n",
       "      <th>rating</th>\n",
       "      <th>rating_counts</th>\n",
       "    </tr>\n",
       "    <tr>\n",
       "      <th>productId</th>\n",
       "      <th></th>\n",
       "      <th></th>\n",
       "    </tr>\n",
       "  </thead>\n",
       "  <tbody>\n",
       "    <tr>\n",
       "      <th>B0074BW614</th>\n",
       "      <td>4.524427</td>\n",
       "      <td>3623</td>\n",
       "    </tr>\n",
       "  </tbody>\n",
       "</table>\n",
       "</div>"
      ],
      "text/plain": [
       "              rating  rating_counts\n",
       "productId                          \n",
       "B0074BW614  4.524427           3623"
      ]
     },
     "execution_count": 29,
     "metadata": {},
     "output_type": "execute_result"
    }
   ],
   "source": [
    "mean_rating_product_count[mean_rating_product_count['rating_counts'] == mean_rating_product_count['rating_counts'].max()]"
   ]
  },
  {
   "cell_type": "code",
   "execution_count": 30,
   "id": "01a6666c",
   "metadata": {},
   "outputs": [
    {
     "name": "stdout",
     "output_type": "stream",
     "text": [
      "Min average rating product: 50\n",
      "Total min average rating products:             rating  rating_counts\n",
      "productId                        \n",
      "B00000K135    4.74             50\n",
      "B00001W0DI    4.26             50\n",
      "B00006JPDI    4.62             50\n",
      "B00009LI55    3.96             50\n",
      "B0001GZ87I    4.54             50\n",
      "...            ...            ...\n",
      "B00EL0EIGC    4.62             50\n",
      "B00FBSFYAC    4.26             50\n",
      "B00FY2SBR8    4.06             50\n",
      "B00HWMPRKM    4.26             50\n",
      "B00J46VVKE    4.60             50\n",
      "\n",
      "[116 rows x 2 columns]\n"
     ]
    }
   ],
   "source": [
    "print('Min average rating product:', mean_rating_product_count['rating_counts'].min())\n",
    "print('Total min average rating products:', mean_rating_product_count[mean_rating_product_count['rating_counts']==mean_rating_product_count['rating_counts'].min()])\n"
   ]
  },
  {
   "cell_type": "code",
   "execution_count": 31,
   "id": "f96f1604",
   "metadata": {},
   "outputs": [
    {
     "data": {
      "image/png": "[encoded data removed]",
      "text/plain": [
       "<Figure size 640x480 with 1 Axes>"
      ]
     },
     "metadata": {},
     "output_type": "display_data"
    }
   ],
   "source": [
    "plt.hist(mean_rating_product_count['rating_counts'], bins=100)\n",
    "plt.title('Rating count distribution')\n",
    "plt.show()"
   ]
  },
  {
   "cell_type": "code",
   "execution_count": 32,
   "id": "34b94347",
   "metadata": {},
   "outputs": [
    {
     "data": {
      "image/png": "[encoded data removed]",
      "text/plain": [
       "<Figure size 600x600 with 3 Axes>"
      ]
     },
     "metadata": {},
     "output_type": "display_data"
    }
   ],
   "source": [
    "sns.jointplot(x='rating', y='rating_counts', data=mean_rating_product_count)\n",
    "plt.title('Joint Plot of rating counts')\n",
    "plt.tight_layout()\n",
    "plt.show()"
   ]
  },
  {
   "cell_type": "code",
   "execution_count": 33,
   "id": "366ecdf7",
   "metadata": {},
   "outputs": [
    {
     "data": {
      "image/png": "[encoded data removed]",
      "text/plain": [
       "<Figure size 640x480 with 1 Axes>"
      ]
     },
     "metadata": {},
     "output_type": "display_data"
    }
   ],
   "source": [
    "plt.scatter(x=mean_rating_product_count['rating'], y=mean_rating_product_count['rating_counts'])\n",
    "plt.show()"
   ]
  },
  {
   "cell_type": "code",
   "execution_count": 34,
   "id": "abfd1a40",
   "metadata": {},
   "outputs": [
    {
     "name": "stdout",
     "output_type": "stream",
     "text": [
      "Correlation between Rating and Rating Count is: 0.10946074590132805\n"
     ]
    }
   ],
   "source": [
    "print('Correlation between Rating and Rating Count is: {}'.format(mean_rating_product_count['rating'].corr(mean_rating_product_count['rating_counts'])))"
   ]
  },
  {
   "cell_type": "code",
   "execution_count": 37,
   "id": "891c6fcb",
   "metadata": {},
   "outputs": [],
   "source": [
    "from surprise import KNNWithMeans\n",
    "from surprise import Dataset\n",
    "from surprise import accuracy\n",
    "from surprise import Reader\n",
    "from surprise.model_selection import train_test_split"
   ]
  },
  {
   "cell_type": "code",
   "execution_count": 38,
   "id": "47e2de6e",
   "metadata": {},
   "outputs": [],
   "source": [
    "reader = Reader(rating_scale=(1,5))\n",
    "surprise_data = Dataset.load_from_df(data, reader)"
   ]
  },
  {
   "cell_type": "code",
   "execution_count": 39,
   "id": "76d08162",
   "metadata": {},
   "outputs": [],
   "source": [
    "trainset, testset = train_test_split(surprise_data, test_size=0.3, random_state=42)\n"
   ]
  },
  {
   "cell_type": "code",
   "execution_count": 40,
   "id": "1483fc20",
   "metadata": {},
   "outputs": [
    {
     "name": "stdout",
     "output_type": "stream",
     "text": [
      "Estimating biases using als...\n",
      "Computing the pearson_baseline similarity matrix...\n",
      "Done computing similarity matrix.\n"
     ]
    },
    {
     "data": {
      "text/plain": [
       "<surprise.prediction_algorithms.knns.KNNWithMeans at 0x1d7d655ba90>"
      ]
     },
     "execution_count": 40,
     "metadata": {},
     "output_type": "execute_result"
    }
   ],
   "source": [
    "algo = KNNWithMeans(k=5, sim_options = {'name': 'pearson_baseline', 'user_based':False})\n",
    "algo.fit(trainset)"
   ]
  },
  {
   "cell_type": "code",
   "execution_count": 41,
   "id": "3871cb72",
   "metadata": {},
   "outputs": [],
   "source": [
    "test_pred = algo.test(testset)"
   ]
  },
  {
   "cell_type": "code",
   "execution_count": 42,
   "id": "224f1231",
   "metadata": {},
   "outputs": [
    {
     "name": "stdout",
     "output_type": "stream",
     "text": [
      "Item-based Model : Test Set\n",
      "RMSE: 1.3089\n"
     ]
    },
    {
     "data": {
      "text/plain": [
       "1.3089371896287703"
      ]
     },
     "execution_count": 42,
     "metadata": {},
     "output_type": "execute_result"
    }
   ],
   "source": [
    "print(\"Item-based Model : Test Set\")\n",
    "accuracy.rmse(test_pred, verbose=True)"
   ]
  },
  {
   "cell_type": "code",
   "execution_count": 44,
   "id": "fe367a7f",
   "metadata": {},
   "outputs": [
    {
     "data": {
      "text/html": [
       "<div>\n",
       "<style scoped>\n",
       "    .dataframe tbody tr th:only-of-type {\n",
       "        vertical-align: middle;\n",
       "    }\n",
       "\n",
       "    .dataframe tbody tr th {\n",
       "        vertical-align: top;\n",
       "    }\n",
       "\n",
       "    .dataframe thead th {\n",
       "        text-align: right;\n",
       "    }\n",
       "</style>\n",
       "<table border=\"1\" class=\"dataframe\">\n",
       "  <thead>\n",
       "    <tr style=\"text-align: right;\">\n",
       "      <th>productId</th>\n",
       "      <th>0972683275</th>\n",
       "      <th>1400532655</th>\n",
       "      <th>140053271X</th>\n",
       "      <th>B00000J1V5</th>\n",
       "      <th>B00000JDF5</th>\n",
       "      <th>B00000JI4F</th>\n",
       "      <th>B00000K2YR</th>\n",
       "      <th>B00001P4XA</th>\n",
       "      <th>B00001P4ZH</th>\n",
       "      <th>B00001P4ZR</th>\n",
       "      <th>...</th>\n",
       "      <th>B00HWMPRKM</th>\n",
       "      <th>B00I2VIR2M</th>\n",
       "      <th>B00I2ZBD1U</th>\n",
       "      <th>B00I94IPTW</th>\n",
       "      <th>B00IAAALFG</th>\n",
       "      <th>B00IF70QCW</th>\n",
       "      <th>B00INNP5VU</th>\n",
       "      <th>B00ISGCAJM</th>\n",
       "      <th>B00IVPU786</th>\n",
       "      <th>B00J46VVKE</th>\n",
       "    </tr>\n",
       "    <tr>\n",
       "      <th>userId</th>\n",
       "      <th></th>\n",
       "      <th></th>\n",
       "      <th></th>\n",
       "      <th></th>\n",
       "      <th></th>\n",
       "      <th></th>\n",
       "      <th></th>\n",
       "      <th></th>\n",
       "      <th></th>\n",
       "      <th></th>\n",
       "      <th></th>\n",
       "      <th></th>\n",
       "      <th></th>\n",
       "      <th></th>\n",
       "      <th></th>\n",
       "      <th></th>\n",
       "      <th></th>\n",
       "      <th></th>\n",
       "      <th></th>\n",
       "      <th></th>\n",
       "      <th></th>\n",
       "    </tr>\n",
       "  </thead>\n",
       "  <tbody>\n",
       "    <tr>\n",
       "      <th>A00317262XRVTNR5YJQYQ</th>\n",
       "      <td>0</td>\n",
       "      <td>0</td>\n",
       "      <td>0</td>\n",
       "      <td>0</td>\n",
       "      <td>0</td>\n",
       "      <td>0</td>\n",
       "      <td>0</td>\n",
       "      <td>0</td>\n",
       "      <td>0</td>\n",
       "      <td>0</td>\n",
       "      <td>...</td>\n",
       "      <td>0</td>\n",
       "      <td>0</td>\n",
       "      <td>0</td>\n",
       "      <td>0</td>\n",
       "      <td>0</td>\n",
       "      <td>0</td>\n",
       "      <td>0</td>\n",
       "      <td>0</td>\n",
       "      <td>0</td>\n",
       "      <td>0</td>\n",
       "    </tr>\n",
       "    <tr>\n",
       "      <th>A01472621EMGV3S6K7TRL</th>\n",
       "      <td>0</td>\n",
       "      <td>0</td>\n",
       "      <td>0</td>\n",
       "      <td>0</td>\n",
       "      <td>0</td>\n",
       "      <td>0</td>\n",
       "      <td>0</td>\n",
       "      <td>0</td>\n",
       "      <td>0</td>\n",
       "      <td>0</td>\n",
       "      <td>...</td>\n",
       "      <td>0</td>\n",
       "      <td>0</td>\n",
       "      <td>0</td>\n",
       "      <td>0</td>\n",
       "      <td>0</td>\n",
       "      <td>0</td>\n",
       "      <td>0</td>\n",
       "      <td>0</td>\n",
       "      <td>0</td>\n",
       "      <td>0</td>\n",
       "    </tr>\n",
       "    <tr>\n",
       "      <th>A015127039CD56EIHHP92</th>\n",
       "      <td>0</td>\n",
       "      <td>0</td>\n",
       "      <td>0</td>\n",
       "      <td>0</td>\n",
       "      <td>0</td>\n",
       "      <td>0</td>\n",
       "      <td>0</td>\n",
       "      <td>0</td>\n",
       "      <td>0</td>\n",
       "      <td>0</td>\n",
       "      <td>...</td>\n",
       "      <td>0</td>\n",
       "      <td>0</td>\n",
       "      <td>0</td>\n",
       "      <td>0</td>\n",
       "      <td>0</td>\n",
       "      <td>0</td>\n",
       "      <td>0</td>\n",
       "      <td>0</td>\n",
       "      <td>0</td>\n",
       "      <td>0</td>\n",
       "    </tr>\n",
       "    <tr>\n",
       "      <th>A016895031Y39HU9LBV</th>\n",
       "      <td>0</td>\n",
       "      <td>0</td>\n",
       "      <td>0</td>\n",
       "      <td>0</td>\n",
       "      <td>0</td>\n",
       "      <td>0</td>\n",
       "      <td>0</td>\n",
       "      <td>0</td>\n",
       "      <td>0</td>\n",
       "      <td>0</td>\n",
       "      <td>...</td>\n",
       "      <td>0</td>\n",
       "      <td>0</td>\n",
       "      <td>0</td>\n",
       "      <td>0</td>\n",
       "      <td>0</td>\n",
       "      <td>0</td>\n",
       "      <td>0</td>\n",
       "      <td>0</td>\n",
       "      <td>0</td>\n",
       "      <td>0</td>\n",
       "    </tr>\n",
       "    <tr>\n",
       "      <th>A01778503JY5HBD9ZT3HJ</th>\n",
       "      <td>0</td>\n",
       "      <td>0</td>\n",
       "      <td>0</td>\n",
       "      <td>0</td>\n",
       "      <td>0</td>\n",
       "      <td>0</td>\n",
       "      <td>0</td>\n",
       "      <td>0</td>\n",
       "      <td>0</td>\n",
       "      <td>0</td>\n",
       "      <td>...</td>\n",
       "      <td>0</td>\n",
       "      <td>0</td>\n",
       "      <td>0</td>\n",
       "      <td>0</td>\n",
       "      <td>0</td>\n",
       "      <td>0</td>\n",
       "      <td>0</td>\n",
       "      <td>0</td>\n",
       "      <td>0</td>\n",
       "      <td>0</td>\n",
       "    </tr>\n",
       "  </tbody>\n",
       "</table>\n",
       "<p>5 rows × 4383 columns</p>\n",
       "</div>"
      ],
      "text/plain": [
       "productId              0972683275  1400532655  140053271X  B00000J1V5  \\\n",
       "userId                                                                  \n",
       "A00317262XRVTNR5YJQYQ           0           0           0           0   \n",
       "A01472621EMGV3S6K7TRL           0           0           0           0   \n",
       "A015127039CD56EIHHP92           0           0           0           0   \n",
       "A016895031Y39HU9LBV             0           0           0           0   \n",
       "A01778503JY5HBD9ZT3HJ           0           0           0           0   \n",
       "\n",
       "productId              B00000JDF5  B00000JI4F  B00000K2YR  B00001P4XA  \\\n",
       "userId                                                                  \n",
       "A00317262XRVTNR5YJQYQ           0           0           0           0   \n",
       "A01472621EMGV3S6K7TRL           0           0           0           0   \n",
       "A015127039CD56EIHHP92           0           0           0           0   \n",
       "A016895031Y39HU9LBV             0           0           0           0   \n",
       "A01778503JY5HBD9ZT3HJ           0           0           0           0   \n",
       "\n",
       "productId              B00001P4ZH  B00001P4ZR  ...  B00HWMPRKM  B00I2VIR2M  \\\n",
       "userId                                         ...                           \n",
       "A00317262XRVTNR5YJQYQ           0           0  ...           0           0   \n",
       "A01472621EMGV3S6K7TRL           0           0  ...           0           0   \n",
       "A015127039CD56EIHHP92           0           0  ...           0           0   \n",
       "A016895031Y39HU9LBV             0           0  ...           0           0   \n",
       "A01778503JY5HBD9ZT3HJ           0           0  ...           0           0   \n",
       "\n",
       "productId              B00I2ZBD1U  B00I94IPTW  B00IAAALFG  B00IF70QCW  \\\n",
       "userId                                                                  \n",
       "A00317262XRVTNR5YJQYQ           0           0           0           0   \n",
       "A01472621EMGV3S6K7TRL           0           0           0           0   \n",
       "A015127039CD56EIHHP92           0           0           0           0   \n",
       "A016895031Y39HU9LBV             0           0           0           0   \n",
       "A01778503JY5HBD9ZT3HJ           0           0           0           0   \n",
       "\n",
       "productId              B00INNP5VU  B00ISGCAJM  B00IVPU786  B00J46VVKE  \n",
       "userId                                                                 \n",
       "A00317262XRVTNR5YJQYQ           0           0           0           0  \n",
       "A01472621EMGV3S6K7TRL           0           0           0           0  \n",
       "A015127039CD56EIHHP92           0           0           0           0  \n",
       "A016895031Y39HU9LBV             0           0           0           0  \n",
       "A01778503JY5HBD9ZT3HJ           0           0           0           0  \n",
       "\n",
       "[5 rows x 4383 columns]"
      ]
     },
     "execution_count": 44,
     "metadata": {},
     "output_type": "execute_result"
    }
   ],
   "source": [
    "data2 = data.sample(20000)\n",
    "ratings_matrix = data2.pivot_table(values='rating', index ='userId', columns='productId', fill_value=0)\n",
    "ratings_matrix.head()"
   ]
  },
  {
   "cell_type": "code",
   "execution_count": 45,
   "id": "f21a86ae",
   "metadata": {},
   "outputs": [
    {
     "data": {
      "text/plain": [
       "(19884, 4383)"
      ]
     },
     "execution_count": 45,
     "metadata": {},
     "output_type": "execute_result"
    }
   ],
   "source": [
    "ratings_matrix.shape"
   ]
  },
  {
   "cell_type": "code",
   "execution_count": 46,
   "id": "cb94d20c",
   "metadata": {},
   "outputs": [
    {
     "data": {
      "text/html": [
       "<div>\n",
       "<style scoped>\n",
       "    .dataframe tbody tr th:only-of-type {\n",
       "        vertical-align: middle;\n",
       "    }\n",
       "\n",
       "    .dataframe tbody tr th {\n",
       "        vertical-align: top;\n",
       "    }\n",
       "\n",
       "    .dataframe thead th {\n",
       "        text-align: right;\n",
       "    }\n",
       "</style>\n",
       "<table border=\"1\" class=\"dataframe\">\n",
       "  <thead>\n",
       "    <tr style=\"text-align: right;\">\n",
       "      <th>userId</th>\n",
       "      <th>A00317262XRVTNR5YJQYQ</th>\n",
       "      <th>A01472621EMGV3S6K7TRL</th>\n",
       "      <th>A015127039CD56EIHHP92</th>\n",
       "      <th>A016895031Y39HU9LBV</th>\n",
       "      <th>A01778503JY5HBD9ZT3HJ</th>\n",
       "      <th>A021107112W946RL28SWJ</th>\n",
       "      <th>A0269980Q6K7E9SH4XN9</th>\n",
       "      <th>A029365219FB802HGQKX7</th>\n",
       "      <th>A03141623SFDIG9DCIUPJ</th>\n",
       "      <th>A0455448C6UP35XRLWCT</th>\n",
       "      <th>...</th>\n",
       "      <th>AZYILWL6S0WV6</th>\n",
       "      <th>AZYPOLLSDVG4K</th>\n",
       "      <th>AZYZM1MLQE159</th>\n",
       "      <th>AZZ77XYX8O2WE</th>\n",
       "      <th>AZZ877RHES6DQ</th>\n",
       "      <th>AZZKQRD1G1KTE</th>\n",
       "      <th>AZZML3F0IW99N</th>\n",
       "      <th>AZZNLB4X2FI4A</th>\n",
       "      <th>AZZNUQKJXI0JI</th>\n",
       "      <th>AZZTC2OYVNE2Q</th>\n",
       "    </tr>\n",
       "    <tr>\n",
       "      <th>productId</th>\n",
       "      <th></th>\n",
       "      <th></th>\n",
       "      <th></th>\n",
       "      <th></th>\n",
       "      <th></th>\n",
       "      <th></th>\n",
       "      <th></th>\n",
       "      <th></th>\n",
       "      <th></th>\n",
       "      <th></th>\n",
       "      <th></th>\n",
       "      <th></th>\n",
       "      <th></th>\n",
       "      <th></th>\n",
       "      <th></th>\n",
       "      <th></th>\n",
       "      <th></th>\n",
       "      <th></th>\n",
       "      <th></th>\n",
       "      <th></th>\n",
       "      <th></th>\n",
       "    </tr>\n",
       "  </thead>\n",
       "  <tbody>\n",
       "    <tr>\n",
       "      <th>0972683275</th>\n",
       "      <td>0</td>\n",
       "      <td>0</td>\n",
       "      <td>0</td>\n",
       "      <td>0</td>\n",
       "      <td>0</td>\n",
       "      <td>0</td>\n",
       "      <td>0</td>\n",
       "      <td>0</td>\n",
       "      <td>0</td>\n",
       "      <td>0</td>\n",
       "      <td>...</td>\n",
       "      <td>0</td>\n",
       "      <td>0</td>\n",
       "      <td>0</td>\n",
       "      <td>0</td>\n",
       "      <td>0</td>\n",
       "      <td>0</td>\n",
       "      <td>0</td>\n",
       "      <td>0</td>\n",
       "      <td>0</td>\n",
       "      <td>0</td>\n",
       "    </tr>\n",
       "    <tr>\n",
       "      <th>1400532655</th>\n",
       "      <td>0</td>\n",
       "      <td>0</td>\n",
       "      <td>0</td>\n",
       "      <td>0</td>\n",
       "      <td>0</td>\n",
       "      <td>0</td>\n",
       "      <td>0</td>\n",
       "      <td>0</td>\n",
       "      <td>0</td>\n",
       "      <td>0</td>\n",
       "      <td>...</td>\n",
       "      <td>0</td>\n",
       "      <td>0</td>\n",
       "      <td>0</td>\n",
       "      <td>0</td>\n",
       "      <td>0</td>\n",
       "      <td>0</td>\n",
       "      <td>0</td>\n",
       "      <td>0</td>\n",
       "      <td>0</td>\n",
       "      <td>0</td>\n",
       "    </tr>\n",
       "    <tr>\n",
       "      <th>140053271X</th>\n",
       "      <td>0</td>\n",
       "      <td>0</td>\n",
       "      <td>0</td>\n",
       "      <td>0</td>\n",
       "      <td>0</td>\n",
       "      <td>0</td>\n",
       "      <td>0</td>\n",
       "      <td>0</td>\n",
       "      <td>0</td>\n",
       "      <td>0</td>\n",
       "      <td>...</td>\n",
       "      <td>0</td>\n",
       "      <td>0</td>\n",
       "      <td>0</td>\n",
       "      <td>0</td>\n",
       "      <td>0</td>\n",
       "      <td>0</td>\n",
       "      <td>0</td>\n",
       "      <td>0</td>\n",
       "      <td>0</td>\n",
       "      <td>0</td>\n",
       "    </tr>\n",
       "    <tr>\n",
       "      <th>B00000J1V5</th>\n",
       "      <td>0</td>\n",
       "      <td>0</td>\n",
       "      <td>0</td>\n",
       "      <td>0</td>\n",
       "      <td>0</td>\n",
       "      <td>0</td>\n",
       "      <td>0</td>\n",
       "      <td>0</td>\n",
       "      <td>0</td>\n",
       "      <td>0</td>\n",
       "      <td>...</td>\n",
       "      <td>0</td>\n",
       "      <td>0</td>\n",
       "      <td>0</td>\n",
       "      <td>0</td>\n",
       "      <td>0</td>\n",
       "      <td>0</td>\n",
       "      <td>0</td>\n",
       "      <td>0</td>\n",
       "      <td>0</td>\n",
       "      <td>0</td>\n",
       "    </tr>\n",
       "    <tr>\n",
       "      <th>B00000JDF5</th>\n",
       "      <td>0</td>\n",
       "      <td>0</td>\n",
       "      <td>0</td>\n",
       "      <td>0</td>\n",
       "      <td>0</td>\n",
       "      <td>0</td>\n",
       "      <td>0</td>\n",
       "      <td>0</td>\n",
       "      <td>0</td>\n",
       "      <td>0</td>\n",
       "      <td>...</td>\n",
       "      <td>0</td>\n",
       "      <td>0</td>\n",
       "      <td>0</td>\n",
       "      <td>0</td>\n",
       "      <td>0</td>\n",
       "      <td>0</td>\n",
       "      <td>0</td>\n",
       "      <td>0</td>\n",
       "      <td>0</td>\n",
       "      <td>0</td>\n",
       "    </tr>\n",
       "  </tbody>\n",
       "</table>\n",
       "<p>5 rows × 19884 columns</p>\n",
       "</div>"
      ],
      "text/plain": [
       "userId      A00317262XRVTNR5YJQYQ  A01472621EMGV3S6K7TRL  \\\n",
       "productId                                                  \n",
       "0972683275                      0                      0   \n",
       "1400532655                      0                      0   \n",
       "140053271X                      0                      0   \n",
       "B00000J1V5                      0                      0   \n",
       "B00000JDF5                      0                      0   \n",
       "\n",
       "userId      A015127039CD56EIHHP92  A016895031Y39HU9LBV  A01778503JY5HBD9ZT3HJ  \\\n",
       "productId                                                                       \n",
       "0972683275                      0                    0                      0   \n",
       "1400532655                      0                    0                      0   \n",
       "140053271X                      0                    0                      0   \n",
       "B00000J1V5                      0                    0                      0   \n",
       "B00000JDF5                      0                    0                      0   \n",
       "\n",
       "userId      A021107112W946RL28SWJ  A0269980Q6K7E9SH4XN9  \\\n",
       "productId                                                 \n",
       "0972683275                      0                     0   \n",
       "1400532655                      0                     0   \n",
       "140053271X                      0                     0   \n",
       "B00000J1V5                      0                     0   \n",
       "B00000JDF5                      0                     0   \n",
       "\n",
       "userId      A029365219FB802HGQKX7  A03141623SFDIG9DCIUPJ  \\\n",
       "productId                                                  \n",
       "0972683275                      0                      0   \n",
       "1400532655                      0                      0   \n",
       "140053271X                      0                      0   \n",
       "B00000J1V5                      0                      0   \n",
       "B00000JDF5                      0                      0   \n",
       "\n",
       "userId      A0455448C6UP35XRLWCT  ...  AZYILWL6S0WV6  AZYPOLLSDVG4K  \\\n",
       "productId                         ...                                 \n",
       "0972683275                     0  ...              0              0   \n",
       "1400532655                     0  ...              0              0   \n",
       "140053271X                     0  ...              0              0   \n",
       "B00000J1V5                     0  ...              0              0   \n",
       "B00000JDF5                     0  ...              0              0   \n",
       "\n",
       "userId      AZYZM1MLQE159  AZZ77XYX8O2WE  AZZ877RHES6DQ  AZZKQRD1G1KTE  \\\n",
       "productId                                                                \n",
       "0972683275              0              0              0              0   \n",
       "1400532655              0              0              0              0   \n",
       "140053271X              0              0              0              0   \n",
       "B00000J1V5              0              0              0              0   \n",
       "B00000JDF5              0              0              0              0   \n",
       "\n",
       "userId      AZZML3F0IW99N  AZZNLB4X2FI4A  AZZNUQKJXI0JI  AZZTC2OYVNE2Q  \n",
       "productId                                                               \n",
       "0972683275              0              0              0              0  \n",
       "1400532655              0              0              0              0  \n",
       "140053271X              0              0              0              0  \n",
       "B00000J1V5              0              0              0              0  \n",
       "B00000JDF5              0              0              0              0  \n",
       "\n",
       "[5 rows x 19884 columns]"
      ]
     },
     "execution_count": 46,
     "metadata": {},
     "output_type": "execute_result"
    }
   ],
   "source": [
    "x_ratings_matrix=ratings_matrix.T\n",
    "x_ratings_matrix.head()"
   ]
  },
  {
   "cell_type": "code",
   "execution_count": 47,
   "id": "99be3376",
   "metadata": {},
   "outputs": [
    {
     "data": {
      "text/plain": [
       "(4383, 19884)"
      ]
     },
     "execution_count": 47,
     "metadata": {},
     "output_type": "execute_result"
    }
   ],
   "source": [
    "x_ratings_matrix.shape"
   ]
  },
  {
   "cell_type": "code",
   "execution_count": 48,
   "id": "9fff6cd6",
   "metadata": {},
   "outputs": [
    {
     "data": {
      "text/plain": [
       "(4383, 10)"
      ]
     },
     "execution_count": 48,
     "metadata": {},
     "output_type": "execute_result"
    }
   ],
   "source": [
    "from sklearn.decomposition import TruncatedSVD\n",
    "SVD = TruncatedSVD(n_components=10)\n",
    "decomposed_matrix=SVD.fit_transform(x_ratings_matrix)\n",
    "decomposed_matrix.shape"
   ]
  },
  {
   "cell_type": "code",
   "execution_count": 49,
   "id": "a1c1d8f1",
   "metadata": {},
   "outputs": [
    {
     "data": {
      "text/plain": [
       "(4383, 4383)"
      ]
     },
     "execution_count": 49,
     "metadata": {},
     "output_type": "execute_result"
    }
   ],
   "source": [
    "correlation_matrix = np.corrcoef(decomposed_matrix)\n",
    "correlation_matrix.shape"
   ]
  },
  {
   "cell_type": "code",
   "execution_count": 50,
   "id": "b9c2e0e2",
   "metadata": {},
   "outputs": [
    {
     "data": {
      "text/plain": [
       "'B00001W0DH'"
      ]
     },
     "execution_count": 50,
     "metadata": {},
     "output_type": "execute_result"
    }
   ],
   "source": [
    "x_ratings_matrix.index[10]"
   ]
  },
  {
   "cell_type": "code",
   "execution_count": 52,
   "id": "c0e02fb2",
   "metadata": {},
   "outputs": [
    {
     "name": "stdout",
     "output_type": "stream",
     "text": [
      "8\n"
     ]
    }
   ],
   "source": [
    "i=\"B00001P4ZH\"\n",
    "product_names = list(x_ratings_matrix.index)\n",
    "product_id = product_names.index(i)\n",
    "print(product_id)"
   ]
  },
  {
   "cell_type": "code",
   "execution_count": 53,
   "id": "8ee36e35",
   "metadata": {},
   "outputs": [
    {
     "data": {
      "text/plain": [
       "(4383,)"
      ]
     },
     "execution_count": 53,
     "metadata": {},
     "output_type": "execute_result"
    }
   ],
   "source": [
    "correlation_product_ID = correlation_matrix[product_id]\n",
    "correlation_product_ID.shape"
   ]
  },
  {
   "cell_type": "code",
   "execution_count": 54,
   "id": "52844a3c",
   "metadata": {},
   "outputs": [
    {
     "data": {
      "text/plain": [
       "(186, 4383)"
      ]
     },
     "execution_count": 54,
     "metadata": {},
     "output_type": "execute_result"
    }
   ],
   "source": [
    "correlation_matrix[correlation_product_ID > 0.85].shape"
   ]
  },
  {
   "cell_type": "code",
   "execution_count": 56,
   "id": "7c90780d",
   "metadata": {},
   "outputs": [
    {
     "data": {
      "text/plain": [
       "['0972683275',\n",
       " '1400532655',\n",
       " 'B00001P4ZH',\n",
       " 'B00004SABB',\n",
       " 'B00004SABJ',\n",
       " 'B00004T1XK',\n",
       " 'B00005BC0K',\n",
       " 'B0000645RH',\n",
       " 'B000067SMH',\n",
       " 'B00007E7JU',\n",
       " 'B000097O5F',\n",
       " 'B00009UT9B',\n",
       " 'B0000BYDKO',\n",
       " 'B0001BVXI6',\n",
       " 'B0001D3K8A',\n",
       " 'B0001FTVEA',\n",
       " 'B00021XIJW',\n",
       " 'B0002KVQBA',\n",
       " 'B0002RBQO0',\n",
       " 'B0002WPSBC']"
      ]
     },
     "execution_count": 56,
     "metadata": {},
     "output_type": "execute_result"
    }
   ],
   "source": [
    "recommend = list(x_ratings_matrix.index[correlation_product_ID > 0.75])\n",
    "recommend[:20]"
   ]
  },
  {
   "cell_type": "code",
   "execution_count": null,
   "id": "2e8c3a11",
   "metadata": {},
   "outputs": [],
   "source": []
  }
 ],
 "metadata": {
  "kernelspec": {
   "display_name": "Python 3 (ipykernel)",
   "language": "python",
   "name": "python3"
  },
  "language_info": {
   "codemirror_mode": {
    "name": "ipython",
    "version": 3
   },
   "file_extension": ".py",
   "mimetype": "text/x-python",
   "name": "python",
   "nbconvert_exporter": "python",
   "pygments_lexer": "ipython3",
   "version": "3.11.5"
  }
 },
 "nbformat": 4,
 "nbformat_minor": 5
}
